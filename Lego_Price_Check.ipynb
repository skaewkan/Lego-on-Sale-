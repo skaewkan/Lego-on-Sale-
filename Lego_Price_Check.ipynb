{
 "cells": [
  {
   "cell_type": "code",
   "execution_count": null,
   "id": "9ca03230-ece2-4c46-a77f-b0bd42047139",
   "metadata": {},
   "outputs": [],
   "source": [
    "def legoset_price():\n",
    "    import pandas as pd\n",
    "    from bs4 import BeautifulSoup\n",
    "    import requests\n",
    "\n",
    "    url = 'https://www.lego.com/en-us/product/natural-history-museum-10326'\n",
    "\n",
    "    headers = {\n",
    "    'User-Agent': 'Mozilla/5.0 (Windows NT 10.0; Win64; x64) AppleWebKit/537.36 (KHTML, like Gecko) Chrome/91.0.4472.124 Safari/537.36',\n",
    "    'Accept-Language': 'en-US,en;q=0.9',\n",
    "    'Referer': 'https://google.com'\n",
    "    }\n",
    "    response = requests.get(url, headers = headers)\n",
    "    soup = BeautifulSoup(response.content,'html.parser')\n",
    "    price = soup.find(attrs={\"data-test\": \"product-price\"}).get_text()\n",
    "    price = price.strip()[6:]\n",
    "    print(price)\n",
    "\n",
    "while(true):\n",
    "    legoset_price()\n",
    "    time.sleep(86400)\n",
    "    \n",
    "def email(price):\n",
    "    import smtplib\n",
    "    import os\n",
    "    from email.mime.text import MIMEText\n",
    "    my_email = os.getenv('USER_NAME')\n",
    "    her_email = 'wife@gmail.com'\n",
    "    password = os.getenv('USER_PASS')\n",
    "    subject = 'Your favorite LEGO Set'\n",
    "    body = f\"\"\" Hi Wife,\n",
    "    I saw that your favorite LEGO set is on sale for ${price}. Do you want it?\n",
    "\n",
    "    Love,\n",
    "    Husband \"\"\"\n",
    "    msg = MIMEText(body)\n",
    "    msg['From'] = my_email\n",
    "    msg['To'] = her_email\n",
    "    msg['Subject'] = subject\n",
    "    try:\n",
    "        server = smtplib.SMTP('smtp.comcast.net', 587)\n",
    "        server.starttls() \n",
    "        server.login(my_email, password) \n",
    "        server.sendmail(my_email, her_email, msg.as_string())\n",
    "        print(\"Email sent successfully!\")\n",
    "\n",
    "    except Exception as e:\n",
    "        print(f\"Failed to send email: {e}\")\n",
    "\n",
    "    finally:\n",
    "        server.quit()\n",
    "if price < 200:\n",
    "    email(price)\n",
    "    \n"
   ]
  }
 ],
 "metadata": {
  "kernelspec": {
   "display_name": "Python 3 (ipykernel)",
   "language": "python",
   "name": "python3"
  },
  "language_info": {
   "codemirror_mode": {
    "name": "ipython",
    "version": 3
   },
   "file_extension": ".py",
   "mimetype": "text/x-python",
   "name": "python",
   "nbconvert_exporter": "python",
   "pygments_lexer": "ipython3",
   "version": "3.11.7"
  }
 },
 "nbformat": 4,
 "nbformat_minor": 5
}
